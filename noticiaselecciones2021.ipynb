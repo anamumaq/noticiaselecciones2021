{
  "nbformat": 4,
  "nbformat_minor": 0,
  "metadata": {
    "colab": {
      "name": "noticiaselecciones2021",
      "provenance": [],
      "collapsed_sections": [],
      "authorship_tag": "ABX9TyMeTHevWSdcCVs+l3oHkLHv",
      "include_colab_link": true
    },
    "kernelspec": {
      "name": "python3",
      "display_name": "Python 3"
    },
    "language_info": {
      "name": "python"
    }
  },
  "cells": [
    {
      "cell_type": "markdown",
      "metadata": {
        "id": "view-in-github",
        "colab_type": "text"
      },
      "source": [
        "<a href=\"https://colab.research.google.com/github/anamumaq/noticiaselecciones2021/blob/main/noticiaselecciones2021.ipynb\" target=\"_parent\"><img src=\"https://colab.research.google.com/assets/colab-badge.svg\" alt=\"Open In Colab\"/></a>"
      ]
    },
    {
      "cell_type": "code",
      "metadata": {
        "id": "LVI_ePERn7w9"
      },
      "source": [
        "!pip install pygooglenews"
      ],
      "execution_count": null,
      "outputs": []
    },
    {
      "cell_type": "code",
      "metadata": {
        "id": "Ey8beszXEmQX"
      },
      "source": [
        "from pygooglenews import GoogleNews\n",
        "import pandas as pd\n",
        "pd.set_option(\"display.max_columns\", None)"
      ],
      "execution_count": 31,
      "outputs": []
    },
    {
      "cell_type": "code",
      "metadata": {
        "id": "KfmWUbKhUuz4"
      },
      "source": [
        "## busqueda de los top news  en español de peru\n",
        "## no se puede buscar un topico en tops\n",
        "gn = GoogleNews(lang = 'sp', country = \"PE\")\n",
        "tops = gn.top_news(proxies = None, scraping_bee = None)['entries']\n",
        "result = pd.DataFrame.from_dict(tops)\n",
        "print(result.describe())"
      ],
      "execution_count": null,
      "outputs": []
    },
    {
      "cell_type": "code",
      "metadata": {
        "id": "IzFiwEqy9xp2"
      },
      "source": [
        "## busqueda general de la palabra y el medio\n",
        "gn = GoogleNews(lang = 'sp',country = \"PE\")\n",
        "kf_r = gn.search('keiko+fujimori+la+republica', when = '1d')['entries']\n",
        "kf_r = pd.DataFrame.from_dict(kf_r)\n",
        "\n",
        "kf_p = gn.search('keiko+fujimori+la+peru+21', when = '1d')['entries']\n",
        "kf_p = pd.DataFrame.from_dict(kf_p)\n",
        "\n",
        "kf_c = gn.search('keiko+fujimori+el+comercio', when = '1d')['entries']\n",
        "kf_c = pd.DataFrame.from_dict(kf_c)\n",
        "\n",
        "kf_g = gn.search('keiko+fujimori+gestion', when = '1d')['entries']\n",
        "kf_g = pd.DataFrame.from_dict(kf_g)\n",
        "\n",
        "kf_rpp = gn.search('keiko+fujimori+rpp', when = '1d')['entries']\n",
        "kf_rpp = pd.DataFrame.from_dict(kf_rpp)\n",
        "\n",
        "kf_e = gn.search('keiko+fujimori+exitosa', when = '1d')['entries']\n",
        "kf_e = pd.DataFrame.from_dict(kf_g)\n",
        "\n",
        "kf_a = gn.search('keiko+fujimori+andina', when = '1d')['entries']\n",
        "kf_a = pd.DataFrame.from_dict(kf_a)\n",
        "\n",
        "kf = pd.concat([kf_r, kf_p, kf_c, kf_g, kf_rpp, kf_e, kf_a], ignore_index = True)\n"
      ],
      "execution_count": 106,
      "outputs": []
    },
    {
      "cell_type": "code",
      "metadata": {
        "id": "V4rcaOv8PkJh"
      },
      "source": [
        "#cambiar el nombre de las columnas al resultado\n",
        "kf.columns = ['titulo','titulo_d','links','link','id','guilink','publicado','publicado parc', 'resumen','resumen detalle','recurso','sub artc']\n"
      ],
      "execution_count": 107,
      "outputs": []
    },
    {
      "cell_type": "code",
      "metadata": {
        "id": "jV19US7-QCnp"
      },
      "source": [
        "# selecciono solo las columnas que me interesan para el analisis\n",
        "columnas = ['titulo',\"publicado\",\"recurso\"]\n",
        "kf = kf[columnas]\n",
        "kf = kf.drop_duplicates()\n",
        "kf = kf.astype('str')\n"
      ],
      "execution_count": 108,
      "outputs": []
    },
    {
      "cell_type": "code",
      "metadata": {
        "id": "znYGrh2fTG2w"
      },
      "source": [
        "# ver como esta compuesta recurso\n",
        "print(kf.recurso[1])"
      ],
      "execution_count": null,
      "outputs": []
    },
    {
      "cell_type": "code",
      "metadata": {
        "id": "inIrqt4Ahple"
      },
      "source": [
        "# composicion de titulo\n",
        "print(kf.titulo[1])"
      ],
      "execution_count": null,
      "outputs": []
    },
    {
      "cell_type": "code",
      "metadata": {
        "id": "RK81ALXEqAIw"
      },
      "source": [
        "print(kf)"
      ],
      "execution_count": null,
      "outputs": []
    },
    {
      "cell_type": "code",
      "metadata": {
        "id": "8ITDwbIOa8zc"
      },
      "source": [
        "# separo recurso en 9 parte porque son las veces que se partira por '\n",
        "n = kf[\"recurso\"].str.split(\"'\", n = 9, expand = True)\n",
        "t = kf[\"titulo\"].str.split(\"-\", n = 1, expand = True)"
      ],
      "execution_count": 109,
      "outputs": []
    },
    {
      "cell_type": "code",
      "metadata": {
        "id": "BuLaVAQNbPuk"
      },
      "source": [
        "print(t.head())"
      ],
      "execution_count": null,
      "outputs": []
    },
    {
      "cell_type": "code",
      "metadata": {
        "id": "UR7Ce60zbwWD"
      },
      "source": [
        "# uso la 7ma columna que es la que tiene el nombre del medio\n",
        "kf[\"web\"] = n[7]\n",
        "kf[\"articulo\"] = t[0]"
      ],
      "execution_count": 110,
      "outputs": []
    },
    {
      "cell_type": "code",
      "metadata": {
        "id": "uVAIEIBmajbY"
      },
      "source": [
        "# borro la columna recurso porque ya no la usare\n",
        "kf.drop(columns =['recurso',\"titulo\"], inplace = True)"
      ],
      "execution_count": 111,
      "outputs": []
    },
    {
      "cell_type": "code",
      "metadata": {
        "id": "EvYuvVZgTWVx"
      },
      "source": [
        "# prueba a ver que tal queda\n",
        "print(kf.head())"
      ],
      "execution_count": null,
      "outputs": []
    },
    {
      "cell_type": "code",
      "metadata": {
        "id": "5FIZJrCSfasm"
      },
      "source": [
        "# wordcloud pa ver que tal\n",
        "# importing all necessery modules\n",
        "from wordcloud import WordCloud, STOPWORDS\n",
        "import matplotlib.pyplot as plt\n",
        "import nltk\n",
        "nltk.download('stopwords')\n",
        "from nltk.corpus import stopwords"
      ],
      "execution_count": null,
      "outputs": []
    },
    {
      "cell_type": "code",
      "metadata": {
        "id": "AxMxDTrGcL5z"
      },
      "source": [
        "comment_words = ''\n",
        "#stopwords = set(STOPWORDS)\n",
        "\n",
        "\n",
        "stop_words_sp = set(stopwords.words('spanish'))\n",
        "stop_words = [\"Perú\"] + list(stop_words_sp)\n",
        "\n",
        "for val in kf.articulo:\n",
        "      \n",
        "    # typecaste each val to string\n",
        "    val = str(val)\n",
        "  \n",
        "    # split the value\n",
        "    tokens = val.split()\n",
        "      \n",
        "    # Converts each token into lowercase\n",
        "    for i in range(len(tokens)):\n",
        "        tokens[i] = tokens[i].lower()\n",
        "      \n",
        "    comment_words += \" \".join(tokens)+\" \"\n",
        "  \n",
        "wordcloud = WordCloud(width = 800, height = 800,\n",
        "                background_color ='black',\n",
        "                stopwords = stop_words,\n",
        "                min_font_size = 10).generate(comment_words)\n",
        "  \n",
        "# plot the WordCloud image                       \n",
        "plt.figure(figsize = (8, 8), facecolor = None)\n",
        "plt.imshow(wordcloud)\n",
        "plt.axis(\"off\")\n",
        "plt.tight_layout(pad = 0)\n",
        "  \n",
        "plt.show()"
      ],
      "execution_count": null,
      "outputs": []
    },
    {
      "cell_type": "markdown",
      "metadata": {
        "id": "LoNTiP02nTwy"
      },
      "source": [
        "Articulos sobre VM"
      ]
    },
    {
      "cell_type": "code",
      "metadata": {
        "id": "HH9mCWoMlxBf"
      },
      "source": [
        "## busqueda general de la palabra y el medio VM\n",
        "gn = GoogleNews(lang = 'sp',country = \"PE\")\n",
        "tiempo = '1m'\n",
        "\n",
        "vm_r = gn.search('veronika+mendoza+la+republica', when = '3d')['entries']\n",
        "vm_r = pd.DataFrame.from_dict(vm_r)\n",
        "\n",
        "vm_p = gn.search('veronika+mendoza+la+peru+21', when = '3d')['entries']\n",
        "vm_p = pd.DataFrame.from_dict(vm_p)\n",
        "\n",
        "vm_c = gn.search('veronika+mendoza+el+comercio', when = '3d')['entries']\n",
        "vm_c = pd.DataFrame.from_dict(vm_c)\n",
        "\n",
        "vm_g = gn.search('veronika+mendoza+gestion', when = '3d')['entries']\n",
        "vm_g = pd.DataFrame.from_dict(vm_g)\n",
        "\n",
        "vm_rpp = gn.search('veronika+mendoza+rpp', when = '3d')['entries']\n",
        "vm_rpp = pd.DataFrame.from_dict(vm_rpp)\n",
        "\n",
        "vm_e = gn.search('veronika+mendoza+exitosa', when = '3d')['entries']\n",
        "vm_e = pd.DataFrame.from_dict(vm_g)\n",
        "\n",
        "vm_a = gn.search('veronika+mendoza+andina', when = '3d')['entries']\n",
        "vm_a = pd.DataFrame.from_dict(vm_a)\n",
        "\n",
        "vm = pd.concat([vm_r, vm_p, vm_c, vm_g, vm_rpp, vm_e, vm_a], ignore_index = True)\n"
      ],
      "execution_count": 101,
      "outputs": []
    },
    {
      "cell_type": "code",
      "metadata": {
        "id": "ozmfKYswnRXo"
      },
      "source": [
        "vm.columns = ['titulo','titulo_d','links','link','id','guilink','publicado','publicado parc', 'resumen','resumen detalle','recurso','sub artc']\n",
        "columnas = ['titulo',\"publicado\",\"recurso\"]\n",
        "vm = vm[columnas]\n",
        "vm = vm.drop_duplicates()\n",
        "vm = vm.astype('str')\n",
        "n = vm[\"recurso\"].str.split(\"'\", n = 9, expand = True)\n",
        "t = vm[\"titulo\"].str.split(\"-\", n = 1, expand = True)\n",
        "vm[\"web\"] = n[7]\n",
        "vm[\"articulo\"] = t[0]\n",
        "vm.drop(columns =['recurso',\"titulo\"], inplace = True)\n"
      ],
      "execution_count": null,
      "outputs": []
    },
    {
      "cell_type": "code",
      "metadata": {
        "id": "HltiLX49n0vf"
      },
      "source": [
        "comment_words = ''\n",
        "#stopwords = set(STOPWORDS)\n",
        "\n",
        "\n",
        "stop_words_sp = set(stopwords.words('spanish'))\n",
        "stop_words = [\"Perú\"] + list(stop_words_sp)\n",
        "\n",
        "for val in vm.articulo:\n",
        "      \n",
        "    # typecaste each val to string\n",
        "    val = str(val)\n",
        "  \n",
        "    # split the value\n",
        "    tokens = val.split()\n",
        "      \n",
        "    # Converts each token into lowercase\n",
        "    for i in range(len(tokens)):\n",
        "        tokens[i] = tokens[i].lower()\n",
        "      \n",
        "    comment_words += \" \".join(tokens)+\" \"\n",
        "  \n",
        "wordcloud = WordCloud(width = 800, height = 800,\n",
        "                background_color ='black',\n",
        "                stopwords = stop_words,\n",
        "                min_font_size = 10).generate(comment_words)\n",
        "  \n",
        "# plot the WordCloud image                       \n",
        "plt.figure(figsize = (8, 8), facecolor = None)\n",
        "plt.imshow(wordcloud)\n",
        "plt.axis(\"off\")\n",
        "plt.tight_layout(pad = 0)\n",
        "  \n",
        "plt.show()"
      ],
      "execution_count": null,
      "outputs": []
    },
    {
      "cell_type": "markdown",
      "metadata": {
        "id": "1zPgD5GwtdB7"
      },
      "source": [
        "OTRAS PRUEBAS PARA OPTIMIZAR"
      ]
    },
    {
      "cell_type": "code",
      "metadata": {
        "id": "6nSnF5-ctbsx"
      },
      "source": [
        "gn = GoogleNews(lang = 'sp',country = \"PE\")\n",
        "tiempo = '30d'\n",
        "\n",
        "la = gn.search('intitle:lopez+aliaga' or 'intitle:rafael+lopez' or 'intitle:renovacion+popular', when = tiempo)['entries']\n",
        "la = pd.DataFrame.from_dict(la)"
      ],
      "execution_count": 92,
      "outputs": []
    },
    {
      "cell_type": "code",
      "metadata": {
        "id": "yBBXoT_qtw2w"
      },
      "source": [
        "la.columns = ['titulo','titulo_d','links','link','id','guilink','publicado','publicado parc', 'resumen','resumen detalle','recurso','sub artc']\n",
        "columnas = ['titulo',\"publicado\",\"recurso\"]\n",
        "la = la[columnas]\n",
        "la = la.drop_duplicates()\n",
        "la = la.astype('str')\n",
        "n = la[\"recurso\"].str.split(\"'\", n = 9, expand = True)\n",
        "t = la[\"titulo\"].str.split(\"-\", n = 1, expand = True)\n",
        "la[\"web\"] = n[7]\n",
        "la[\"articulo\"] = t[0]\n",
        "la.drop(columns =['recurso',\"titulo\"], inplace = True)"
      ],
      "execution_count": 93,
      "outputs": []
    },
    {
      "cell_type": "code",
      "metadata": {
        "id": "-anNYfn9uGI6"
      },
      "source": [
        "print(la)"
      ],
      "execution_count": null,
      "outputs": []
    },
    {
      "cell_type": "code",
      "metadata": {
        "id": "TrZFvfUhuPVg"
      },
      "source": [
        "print(la.describe())"
      ],
      "execution_count": null,
      "outputs": []
    },
    {
      "cell_type": "code",
      "metadata": {
        "id": "8uzQCijBpQJw"
      },
      "source": [
        "#print(vm.web.count())\n",
        "la.groupby('web').count()\n"
      ],
      "execution_count": null,
      "outputs": []
    },
    {
      "cell_type": "code",
      "metadata": {
        "id": "7oIEjVNRvNiY"
      },
      "source": [
        "comment_words = ''\n",
        "#stopwords = set(STOPWORDS)\n",
        "\n",
        "\n",
        "stop_words_sp = set(stopwords.words('spanish'))\n",
        "stop_words = [\"Perú\"] + list(stop_words_sp)\n",
        "\n",
        "for val in la.articulo:\n",
        "      \n",
        "    # typecaste each val to string\n",
        "    val = str(val)\n",
        "  \n",
        "    # split the value\n",
        "    tokens = val.split()\n",
        "      \n",
        "    # Converts each token into lowercase\n",
        "    for i in range(len(tokens)):\n",
        "        tokens[i] = tokens[i].lower()\n",
        "      \n",
        "    comment_words += \" \".join(tokens)+\" \"\n",
        "  \n",
        "wordcloud = WordCloud(width = 800, height = 800,\n",
        "                background_color ='black',\n",
        "                stopwords = stop_words,\n",
        "                min_font_size = 10).generate(comment_words)\n",
        "  \n",
        "# plot the WordCloud image                       \n",
        "plt.figure(figsize = (8, 8), facecolor = None)\n",
        "plt.imshow(wordcloud)\n",
        "plt.axis(\"off\")\n",
        "plt.tight_layout(pad = 0)\n",
        "  \n",
        "plt.show()"
      ],
      "execution_count": null,
      "outputs": []
    },
    {
      "cell_type": "markdown",
      "metadata": {
        "id": "wt2yvHk3vEOF"
      },
      "source": [
        "Primera prueba analisis de sentimiento\n"
      ]
    },
    {
      "cell_type": "code",
      "metadata": {
        "id": "WwjiBCJQvDsV"
      },
      "source": [
        "pip install sentiment-analysis-spanish\n",
        "pip install keras tensorflow"
      ],
      "execution_count": null,
      "outputs": []
    },
    {
      "cell_type": "code",
      "metadata": {
        "id": "aqVMV4MSvPgs"
      },
      "source": [
        "from sentiment_analysis_spanish import sentiment_analysis"
      ],
      "execution_count": 58,
      "outputs": []
    },
    {
      "cell_type": "code",
      "metadata": {
        "colab": {
          "base_uri": "https://localhost:8080/"
        },
        "id": "knpW5LJ5vRWt",
        "outputId": "1ccd9e0f-7c2c-447d-f0e3-2132c3c83959"
      },
      "source": [
        "sent = sentiment_analysis.SentimentAnalysisSpanish()\n",
        "\n"
      ],
      "execution_count": 62,
      "outputs": [
        {
          "output_type": "stream",
          "text": [
            "/usr/local/lib/python3.7/dist-packages/sklearn/base.py:318: UserWarning: Trying to unpickle estimator CountVectorizer from version 0.23.2 when using version 0.22.2.post1. This might lead to breaking code or invalid results. Use at your own risk.\n",
            "  UserWarning)\n",
            "/usr/local/lib/python3.7/dist-packages/sklearn/base.py:318: UserWarning: Trying to unpickle estimator MultinomialNB from version 0.23.2 when using version 0.22.2.post1. This might lead to breaking code or invalid results. Use at your own risk.\n",
            "  UserWarning)\n"
          ],
          "name": "stderr"
        }
      ]
    },
    {
      "cell_type": "code",
      "metadata": {
        "colab": {
          "base_uri": "https://localhost:8080/"
        },
        "id": "GFezIc3ozNT9",
        "outputId": "ac5636ae-4a7e-46ef-b2da-b99d9e183937"
      },
      "source": [
        "titulos = kf.articulo.values.tolist()\n",
        "print(titulos)"
      ],
      "execution_count": 112,
      "outputs": [
        {
          "output_type": "stream",
          "text": [
            "['George Forsyth sobre Keiko Fujimori: Trabó el desarrollo del Perú ', 'Pedro Castillo de Perú Libre, el outsider en estas elecciones, fue el virtual ganador en el Debate Presidencial % ', 'Estudio en Twitter revela cuál es el candidato presidencial más rechazado y aceptado de las redes sociales ', 'Keiko Fujimori califica de “salvaje” la actitud de López Aliaga contra periodista Mónica Delta ', 'Keiko Fujimori sobre censura a ministros de PPK: “Debimos poner paños fríos” ', 'Estas son las cortitas de hoy miércoles 31 de marzo de 2021 ', 'Pico a Pico: Patricia Juárez vs. Marie Ayasta ', 'Elecciones 2021: Segundo debate no cumplió expectativas ', '#DateCuenta: Circula por WhatsApp encuesta falsa de El Comercio', 'Así fue la tercera y última fecha del debate presidencial del JNE ', 'Verónika Mendoza y Yonhy Lescano son los candidatos que generan mayor preocupación en el... ', '#DateCuenta: Circula por WhatsApp encuesta falsa de El Comercio', 'Elecciones 2021: conoce aquí las hojas de vida de todos los candidatos presidenciales ', 'Debate presidencial del JNE: todo lo que no viste de la última confrontación política antes de las elecciones | FOTOS ', 'Así fue la tercera y última fecha del debate presidencial del JNE ', '¿Quién ganó? ¿Quién perdió? Expertos analizaron última fecha del debate presidencial 2021 del JNE ', 'El desapego, por Javier Díaz', 'Elecciones 2021: ¿Cuál es la percepción del empresariado respecto de los candidatos presidenciales? ', 'Verónika Mendoza y Yonhy Lescano son los candidatos que generan mayor preocupación en el... ', 'Estas son las cortitas de hoy miércoles 31 de marzo de 2021 ', 'Elecciones 2021: ¿Cuál es la percepción del empresariado sobre candidatos presidenciales? ', 'Multa por no declarar Impuesto a la Renta ', 'Apareció el reglamento de la nueva ley agraria ', 'Se dejaron de invertir US$ 20 mil millones en el sector minería y electricidad por inestabilidad política ', 'Multa por no declarar Impuesto a la Renta ', 'Candidato Hernando de Soto, ganó un debate para el olvido ', 'Candidatos evalúan su participación en el Debate presidencial 2021 [Audiogalería] ', '31 de marzo | Perú al día: el resumen de las noticias regionales ', 'Leao Butrón aseguró que el fichaje de Jefferson Farfán por Alianza Lima puede acelerar el regreso de Paolo Guerrero ', 'Así vieron el debate presidencial del lunes sus propios protagonistas ']\n"
          ],
          "name": "stdout"
        }
      ]
    },
    {
      "cell_type": "code",
      "metadata": {
        "colab": {
          "base_uri": "https://localhost:8080/"
        },
        "id": "2-YXmiCpztd9",
        "outputId": "19a8ada5-8e22-4d2e-a7bc-b16ec535ce11"
      },
      "source": [
        "\n",
        "for e in titulos:\n",
        "    print(e + ' ==> %.5f' % sent.sentiment(e))"
      ],
      "execution_count": 113,
      "outputs": [
        {
          "output_type": "stream",
          "text": [
            "George Forsyth sobre Keiko Fujimori: Trabó el desarrollo del Perú  ==> 0.52832\n",
            "Pedro Castillo de Perú Libre, el outsider en estas elecciones, fue el virtual ganador en el Debate Presidencial %  ==> 0.27558\n",
            "Estudio en Twitter revela cuál es el candidato presidencial más rechazado y aceptado de las redes sociales  ==> 0.30905\n",
            "Keiko Fujimori califica de “salvaje” la actitud de López Aliaga contra periodista Mónica Delta  ==> 0.02756\n",
            "Keiko Fujimori sobre censura a ministros de PPK: “Debimos poner paños fríos”  ==> 0.06872\n",
            "Estas son las cortitas de hoy miércoles 31 de marzo de 2021  ==> 0.01445\n",
            "Pico a Pico: Patricia Juárez vs. Marie Ayasta  ==> 0.49789\n",
            "Elecciones 2021: Segundo debate no cumplió expectativas  ==> 0.07247\n",
            "#DateCuenta: Circula por WhatsApp encuesta falsa de El Comercio ==> 0.31033\n",
            "Así fue la tercera y última fecha del debate presidencial del JNE  ==> 0.04920\n",
            "Verónika Mendoza y Yonhy Lescano son los candidatos que generan mayor preocupación en el...  ==> 0.39746\n",
            "#DateCuenta: Circula por WhatsApp encuesta falsa de El Comercio ==> 0.31033\n",
            "Elecciones 2021: conoce aquí las hojas de vida de todos los candidatos presidenciales  ==> 0.58760\n",
            "Debate presidencial del JNE: todo lo que no viste de la última confrontación política antes de las elecciones | FOTOS  ==> 0.00110\n",
            "Así fue la tercera y última fecha del debate presidencial del JNE  ==> 0.04920\n",
            "¿Quién ganó? ¿Quién perdió? Expertos analizaron última fecha del debate presidencial 2021 del JNE  ==> 0.26901\n",
            "El desapego, por Javier Díaz ==> 0.36440\n",
            "Elecciones 2021: ¿Cuál es la percepción del empresariado respecto de los candidatos presidenciales?  ==> 0.12022\n",
            "Verónika Mendoza y Yonhy Lescano son los candidatos que generan mayor preocupación en el...  ==> 0.39746\n",
            "Estas son las cortitas de hoy miércoles 31 de marzo de 2021  ==> 0.01445\n",
            "Elecciones 2021: ¿Cuál es la percepción del empresariado sobre candidatos presidenciales?  ==> 0.43758\n",
            "Multa por no declarar Impuesto a la Renta  ==> 0.01835\n",
            "Apareció el reglamento de la nueva ley agraria  ==> 0.18357\n",
            "Se dejaron de invertir US$ 20 mil millones en el sector minería y electricidad por inestabilidad política  ==> 0.05471\n",
            "Multa por no declarar Impuesto a la Renta  ==> 0.01835\n",
            "Candidato Hernando de Soto, ganó un debate para el olvido  ==> 0.40349\n",
            "Candidatos evalúan su participación en el Debate presidencial 2021 [Audiogalería]  ==> 0.42316\n",
            "31 de marzo | Perú al día: el resumen de las noticias regionales  ==> 0.16239\n",
            "Leao Butrón aseguró que el fichaje de Jefferson Farfán por Alianza Lima puede acelerar el regreso de Paolo Guerrero  ==> 0.11482\n",
            "Así vieron el debate presidencial del lunes sus propios protagonistas  ==> 0.36553\n"
          ],
          "name": "stdout"
        }
      ]
    }
  ]
}