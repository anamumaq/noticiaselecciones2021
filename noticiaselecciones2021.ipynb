{
  "nbformat": 4,
  "nbformat_minor": 0,
  "metadata": {
    "colab": {
      "name": "noticiaselecciones2021",
      "provenance": [],
      "collapsed_sections": [],
      "authorship_tag": "ABX9TyP2IrUtEWYxn0RzYphdULlj",
      "include_colab_link": true
    },
    "kernelspec": {
      "name": "python3",
      "display_name": "Python 3"
    },
    "language_info": {
      "name": "python"
    }
  },
  "cells": [
    {
      "cell_type": "markdown",
      "metadata": {
        "id": "view-in-github",
        "colab_type": "text"
      },
      "source": [
        "<a href=\"https://colab.research.google.com/github/anamumaq/noticiaselecciones2021/blob/main/noticiaselecciones2021.ipynb\" target=\"_parent\"><img src=\"https://colab.research.google.com/assets/colab-badge.svg\" alt=\"Open In Colab\"/></a>"
      ]
    },
    {
      "cell_type": "code",
      "metadata": {
        "id": "Ey8beszXEmQX"
      },
      "source": [
        "from pygooglenews import GoogleNews\n",
        "import pandas as pd"
      ],
      "execution_count": null,
      "outputs": []
    },
    {
      "cell_type": "code",
      "metadata": {
        "id": "IzFiwEqy9xp2"
      },
      "source": [
        "## busqueda general de la palabra y el medio\n",
        "gn = GoogleNews(lang = 'sp',country = \"PE\")\n",
        "kf = gn.search('keiko+fujimori+Comercio')['entries']\n",
        "result = pd.DataFrame.from_dict(kf)\n",
        "print(result.info())\n"
      ],
      "execution_count": null,
      "outputs": []
    },
    {
      "cell_type": "code",
      "metadata": {
        "id": "KfmWUbKhUuz4"
      },
      "source": [
        "## busqueda de los top news  en español de peru\n",
        "## no se puede buscar un topico en tops\n",
        "gn = GoogleNews(lang = 'sp', country=\"PE\")\n",
        "tops = gn.top_news(proxies=None, scraping_bee = None)['entries']\n",
        "result = pd.DataFrame.from_dict(tops)\n",
        "print(result.describe())"
      ],
      "execution_count": null,
      "outputs": []
    },
    {
      "cell_type": "code",
      "metadata": {
        "id": "V4rcaOv8PkJh"
      },
      "source": [
        "#cambiar el nombre de las columnas al resultado\n",
        "result.columns = ['titulo','titulo_d','links','link','id','guilink','publicado','publicado parc', 'resumen','resumen detalle','recurso','sub artc']"
      ],
      "execution_count": null,
      "outputs": []
    },
    {
      "cell_type": "code",
      "metadata": {
        "colab": {
          "base_uri": "https://localhost:8080/"
        },
        "id": "jV19US7-QCnp",
        "outputId": "c16978e4-2553-4d8b-f150-0bb4cf3ab834"
      },
      "source": [
        "# seleciono solo las columnas que me interesan para el analisis\n",
        "columnas = ['titulo',\"id\",\"publicado\"]\n",
        "df = result[columnas]\n",
        "print(df.titulo.head())"
      ],
      "execution_count": null,
      "outputs": [
        {
          "output_type": "stream",
          "text": [
            "0    George Forsyth y Keiko Fujimori se lanzan pull...\n",
            "1    Keiko Fujimori: López Aliaga está “embriagado ...\n",
            "2    Keiko Fujimori: Juez autoriza de manera excepc...\n",
            "3    Keiko Fujimori: “Es verdad que la actitud de F...\n",
            "4    La estrategia final de Keiko Fujimori: en busc...\n",
            "Name: titulo, dtype: object\n"
          ],
          "name": "stdout"
        }
      ]
    },
    {
      "cell_type": "code",
      "metadata": {
        "colab": {
          "base_uri": "https://localhost:8080/"
        },
        "id": "znYGrh2fTG2w",
        "outputId": "c3b386ab-086c-43b2-991c-bf8a360c720a"
      },
      "source": [
        "\n",
        "print(df.titulo[8])"
      ],
      "execution_count": null,
      "outputs": [
        {
          "output_type": "stream",
          "text": [
            "Transparencia responde a Keiko Fujimori: “Es falso que Alberto Fujimori fue electo en 2000 sin fraude” - El Comercio Perú\n"
          ],
          "name": "stdout"
        }
      ]
    }
  ]
}